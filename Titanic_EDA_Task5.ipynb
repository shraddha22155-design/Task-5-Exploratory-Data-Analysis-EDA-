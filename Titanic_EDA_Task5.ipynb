{
 "cells": [
  {
   "cell_type": "markdown",
   "id": "7bdd64f5",
   "metadata": {},
   "source": [
    "# Titanic Dataset - Exploratory Data Analysis (EDA)\n",
    "This notebook contains an exploratory data analysis (EDA) of the Titanic dataset.\n",
    "We will analyze passenger demographics, socio-economic status, and their relationship with survival outcomes."
   ]
  },
  {
   "cell_type": "code",
   "execution_count": null,
   "id": "b7e3c6e7",
   "metadata": {},
   "outputs": [],
   "source": [
    "import pandas as pd\n",
    "import matplotlib.pyplot as plt\n",
    "import seaborn as sns\n",
    "sns.set(style='whitegrid')"
   ]
  },
  {
   "cell_type": "code",
   "execution_count": null,
   "id": "2489151d",
   "metadata": {},
   "outputs": [],
   "source": [
    "df = pd.read_csv('train.csv')\n",
    "df.head()"
   ]
  },
  {
   "cell_type": "code",
   "execution_count": null,
   "id": "6ef219dc",
   "metadata": {},
   "outputs": [],
   "source": [
    "df.info()\n",
    "df.describe()"
   ]
  },
  {
   "cell_type": "code",
   "execution_count": null,
   "id": "54094173",
   "metadata": {},
   "outputs": [],
   "source": [
    "df.isnull().sum()"
   ]
  },
  {
   "cell_type": "code",
   "execution_count": null,
   "id": "2ac8debc",
   "metadata": {},
   "outputs": [],
   "source": [
    "plt.figure(figsize=(6,4))\n",
    "sns.countplot(x='Survived', data=df, palette='pastel')\n",
    "plt.title('Survival Count')\n",
    "plt.show()"
   ]
  },
  {
   "cell_type": "code",
   "execution_count": null,
   "id": "dfef6a8c",
   "metadata": {},
   "outputs": [],
   "source": [
    "plt.figure(figsize=(6,4))\n",
    "sns.countplot(x='Sex', hue='Survived', data=df, palette='Set2')\n",
    "plt.title('Survival by Sex')\n",
    "plt.show()"
   ]
  },
  {
   "cell_type": "code",
   "execution_count": null,
   "id": "e3de61a3",
   "metadata": {},
   "outputs": [],
   "source": [
    "plt.figure(figsize=(6,4))\n",
    "sns.countplot(x='Pclass', hue='Survived', data=df, palette='muted')\n",
    "plt.title('Survival by Passenger Class')\n",
    "plt.show()"
   ]
  },
  {
   "cell_type": "code",
   "execution_count": null,
   "id": "ad25516c",
   "metadata": {},
   "outputs": [],
   "source": [
    "plt.figure(figsize=(6,4))\n",
    "sns.histplot(df['Age'].dropna(), bins=30, kde=True, color='skyblue')\n",
    "plt.title('Age Distribution')\n",
    "plt.show()"
   ]
  },
  {
   "cell_type": "code",
   "execution_count": null,
   "id": "c7642434",
   "metadata": {},
   "outputs": [],
   "source": [
    "plt.figure(figsize=(6,4))\n",
    "sns.histplot(df['Fare'], bins=40, kde=True, color='orange')\n",
    "plt.title('Fare Distribution')\n",
    "plt.show()"
   ]
  },
  {
   "cell_type": "code",
   "execution_count": null,
   "id": "04a9f287",
   "metadata": {},
   "outputs": [],
   "source": [
    "plt.figure(figsize=(8,6))\n",
    "sns.heatmap(df.corr(numeric_only=True), annot=True, cmap='coolwarm', fmt='.2f')\n",
    "plt.title('Correlation Heatmap')\n",
    "plt.show()"
   ]
  },
  {
   "cell_type": "markdown",
   "id": "c664e9e1",
   "metadata": {},
   "source": [
    "### Key Insights\n",
    "- Women had much higher survival rates compared to men.\n",
    "- First-class passengers had the highest chance of survival, while third-class had the lowest.\n",
    "- Younger passengers (20–40) were the majority, but survival varied across ages.\n",
    "- Higher fares were associated with greater survival probability.\n",
    "- Correlation shows strong negative relation between `Pclass` and survival."
   ]
  }
 ],
 "metadata": {},
 "nbformat": 4,
 "nbformat_minor": 5
}
